{
 "cells": [
  {
   "cell_type": "code",
   "execution_count": 1,
   "id": "d2b26bf3",
   "metadata": {},
   "outputs": [],
   "source": [
    "import os"
   ]
  },
  {
   "cell_type": "code",
   "execution_count": 15,
   "id": "5ab3330f",
   "metadata": {},
   "outputs": [],
   "source": [
    "def clean_text(input_file, output_file):\n",
    "    with open(input_file, 'r', encoding='utf-8') as file:\n",
    "        lines = file.readlines()\n",
    "\n",
    "    # Filter out lines that start with 'Page | '\n",
    "    cleaned_lines = [line for line in lines if not line.startswith('Page | ')]\n",
    "    \n",
    "    # Write the cleaned lines to a new file\n",
    "    with open(output_file, 'w', encoding='utf-8') as file:\n",
    "        file.writelines(cleaned_lines)"
   ]
  },
  {
   "cell_type": "code",
   "execution_count": 16,
   "id": "c554faa3",
   "metadata": {},
   "outputs": [
    {
     "ename": "FileNotFoundError",
     "evalue": "[Errno 2] No such file or directory: 'books'",
     "output_type": "error",
     "traceback": [
      "\u001b[0;31m---------------------------------------------------------------------------\u001b[0m",
      "\u001b[0;31mFileNotFoundError\u001b[0m                         Traceback (most recent call last)",
      "Cell \u001b[0;32mIn[16], line 10\u001b[0m\n\u001b[1;32m      7\u001b[0m \u001b[38;5;28;01mif\u001b[39;00m \u001b[38;5;129;01mnot\u001b[39;00m os\u001b[38;5;241m.\u001b[39mpath\u001b[38;5;241m.\u001b[39mexists(cleaned_books_dir):\n\u001b[1;32m      8\u001b[0m     os\u001b[38;5;241m.\u001b[39mmakedirs(cleaned_books_dir)\n\u001b[0;32m---> 10\u001b[0m all_books \u001b[38;5;241m=\u001b[39m [book \u001b[38;5;28;01mfor\u001b[39;00m book \u001b[38;5;129;01min\u001b[39;00m os\u001b[38;5;241m.\u001b[39mscandir(\u001b[38;5;124m'\u001b[39m\u001b[38;5;124mbooks\u001b[39m\u001b[38;5;124m'\u001b[39m) \u001b[38;5;28;01mif\u001b[39;00m book\u001b[38;5;241m.\u001b[39mname\u001b[38;5;241m.\u001b[39mendswith(\u001b[38;5;124m'\u001b[39m\u001b[38;5;124m.txt\u001b[39m\u001b[38;5;124m'\u001b[39m)]\n\u001b[1;32m     12\u001b[0m \u001b[38;5;66;03m# Loop through each book in the all_books list\u001b[39;00m\n\u001b[1;32m     13\u001b[0m \u001b[38;5;28;01mfor\u001b[39;00m book \u001b[38;5;129;01min\u001b[39;00m all_books:\n",
      "\u001b[0;31mFileNotFoundError\u001b[0m: [Errno 2] No such file or directory: 'books'"
     ]
    }
   ],
   "source": [
    "# Clean the books\n",
    "\n",
    "# Directory for cleaned books\n",
    "cleaned_books_dir = '/Users/itselios/Desktop/Social graphs/project/data/'\n",
    "\n",
    "# Create the directory if it doesn't exist\n",
    "if not os.path.exists(cleaned_books_dir):\n",
    "    os.makedirs(cleaned_books_dir)\n",
    "\n",
    "all_books = [book for book in os.scandir('books') if book.name.endswith('.txt')]\n",
    "\n",
    "# Loop through each book in the all_books list\n",
    "for book in all_books:\n",
    "    output_file = os.path.join(cleaned_books_dir, f\"cleaned_{book.name}\")\n",
    "    clean_text(book, output_file)"
   ]
  },
  {
   "cell_type": "code",
   "execution_count": null,
   "id": "c4ef3657",
   "metadata": {},
   "outputs": [],
   "source": []
  }
 ],
 "metadata": {
  "kernelspec": {
   "display_name": "Python 3 (ipykernel)",
   "language": "python",
   "name": "python3"
  },
  "language_info": {
   "codemirror_mode": {
    "name": "ipython",
    "version": 3
   },
   "file_extension": ".py",
   "mimetype": "text/x-python",
   "name": "python",
   "nbconvert_exporter": "python",
   "pygments_lexer": "ipython3",
   "version": "3.11.4"
  }
 },
 "nbformat": 4,
 "nbformat_minor": 5
}
